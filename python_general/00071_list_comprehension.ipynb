{
  "nbformat": 4,
  "nbformat_minor": 0,
  "metadata": {
    "colab": {
      "provenance": [],
      "authorship_tag": "ABX9TyOgobe6mCVyhzezRlErr+0K",
      "include_colab_link": true
    },
    "kernelspec": {
      "name": "python3",
      "display_name": "Python 3"
    },
    "language_info": {
      "name": "python"
    }
  },
  "cells": [
    {
      "cell_type": "markdown",
      "metadata": {
        "id": "view-in-github",
        "colab_type": "text"
      },
      "source": [
        "<a href=\"https://colab.research.google.com/github/sakunisgithub/python_programming/blob/master/python_general/00071_list_comprehension.ipynb\" target=\"_parent\"><img src=\"https://colab.research.google.com/assets/colab-badge.svg\" alt=\"Open In Colab\"/></a>"
      ]
    },
    {
      "cell_type": "markdown",
      "source": [
        "# Question 1"
      ],
      "metadata": {
        "id": "nrdaHrzwXzok"
      }
    },
    {
      "cell_type": "markdown",
      "source": [
        "Create a list of squares of numbers from 1 to 10."
      ],
      "metadata": {
        "id": "uZgm8NCaX5nc"
      }
    },
    {
      "cell_type": "code",
      "execution_count": 1,
      "metadata": {
        "colab": {
          "base_uri": "https://localhost:8080/"
        },
        "id": "a9on8rD8XWL2",
        "outputId": "72d986f1-b77d-48f3-d317-7e6b4515b86e"
      },
      "outputs": [
        {
          "output_type": "stream",
          "name": "stdout",
          "text": [
            "[1, 4, 9, 16, 25, 36, 49, 64, 81, 100]\n"
          ]
        }
      ],
      "source": [
        "my_list = [x**2 for x in range(1, 11)]\n",
        "print(my_list)"
      ]
    },
    {
      "cell_type": "markdown",
      "source": [
        "# Question 2"
      ],
      "metadata": {
        "id": "m1UV1j89YJS7"
      }
    },
    {
      "cell_type": "markdown",
      "source": [
        "Create a list of even numbers from 0 to 20."
      ],
      "metadata": {
        "id": "aAa4drLgYf3D"
      }
    },
    {
      "cell_type": "code",
      "source": [
        "my_list = [x for x in range(21) if x % 2 == 0]\n",
        "print(my_list)"
      ],
      "metadata": {
        "colab": {
          "base_uri": "https://localhost:8080/"
        },
        "id": "O7z8T7YVYgs-",
        "outputId": "ca1a495f-2903-4fb0-be28-366408e598ce"
      },
      "execution_count": 2,
      "outputs": [
        {
          "output_type": "stream",
          "name": "stdout",
          "text": [
            "[0, 2, 4, 6, 8, 10, 12, 14, 16, 18, 20]\n"
          ]
        }
      ]
    },
    {
      "cell_type": "markdown",
      "source": [
        "# Question 3"
      ],
      "metadata": {
        "id": "CgteapV8YlRT"
      }
    },
    {
      "cell_type": "markdown",
      "source": [
        "Convert a list of strings to uppercase."
      ],
      "metadata": {
        "id": "2614UfFAYnNE"
      }
    },
    {
      "cell_type": "code",
      "source": [
        "my_list = [word.upper() for word in ['shweta', 'kuttus', 'ananda']]\n",
        "print(my_list)"
      ],
      "metadata": {
        "colab": {
          "base_uri": "https://localhost:8080/"
        },
        "id": "UIahrpcxYkba",
        "outputId": "749df339-fac4-4bb0-b6be-e2d98d76884d"
      },
      "execution_count": 3,
      "outputs": [
        {
          "output_type": "stream",
          "name": "stdout",
          "text": [
            "['SHWETA', 'KUTTUS', 'ANANDA']\n"
          ]
        }
      ]
    },
    {
      "cell_type": "markdown",
      "source": [
        "# Question 4"
      ],
      "metadata": {
        "id": "wOkxjW3sYwkz"
      }
    },
    {
      "cell_type": "markdown",
      "source": [
        "Create a list of numbers divisible by 3 between 1 to 50."
      ],
      "metadata": {
        "id": "dOqUd6wJYyOy"
      }
    },
    {
      "cell_type": "code",
      "source": [
        "my_list = [x for x in range(1, 51) if x % 3 == 0]\n",
        "print(my_list)"
      ],
      "metadata": {
        "colab": {
          "base_uri": "https://localhost:8080/"
        },
        "id": "-xwvTcWBY1vZ",
        "outputId": "70b04cc1-d395-465b-bce7-73424be8e878"
      },
      "execution_count": 4,
      "outputs": [
        {
          "output_type": "stream",
          "name": "stdout",
          "text": [
            "[3, 6, 9, 12, 15, 18, 21, 24, 27, 30, 33, 36, 39, 42, 45, 48]\n"
          ]
        }
      ]
    },
    {
      "cell_type": "markdown",
      "source": [
        "# Question 5"
      ],
      "metadata": {
        "id": "5MRDHF4EY5DJ"
      }
    },
    {
      "cell_type": "markdown",
      "source": [
        "Create a list of the first letters of each word in a list."
      ],
      "metadata": {
        "id": "ZhvJolZXY6bL"
      }
    },
    {
      "cell_type": "code",
      "source": [
        "my_list = [x[0] for x in ['shweta', 'kuttus', 'ananda']]\n",
        "print(my_list)"
      ],
      "metadata": {
        "colab": {
          "base_uri": "https://localhost:8080/"
        },
        "id": "NDWzG-vdY_rS",
        "outputId": "cfd0fd27-4c77-4ac0-c695-ce46f7a0a05a"
      },
      "execution_count": 5,
      "outputs": [
        {
          "output_type": "stream",
          "name": "stdout",
          "text": [
            "['s', 'k', 'a']\n"
          ]
        }
      ]
    },
    {
      "cell_type": "markdown",
      "source": [
        "# Question 6"
      ],
      "metadata": {
        "id": "V-0ZKFNcZCc_"
      }
    },
    {
      "cell_type": "markdown",
      "source": [
        "Create a list of tuples (number, square) for numbers 1 to 10."
      ],
      "metadata": {
        "id": "G01ap51yYL25"
      }
    },
    {
      "cell_type": "code",
      "source": [
        "my_list = [(x, x**2) for x in range(1, 11)]\n",
        "print(my_list)"
      ],
      "metadata": {
        "colab": {
          "base_uri": "https://localhost:8080/"
        },
        "id": "pW1C-14hYQWy",
        "outputId": "e233c781-9275-425d-c552-947412f3f486"
      },
      "execution_count": 6,
      "outputs": [
        {
          "output_type": "stream",
          "name": "stdout",
          "text": [
            "[(1, 1), (2, 4), (3, 9), (4, 16), (5, 25), (6, 36), (7, 49), (8, 64), (9, 81), (10, 100)]\n"
          ]
        }
      ]
    },
    {
      "cell_type": "markdown",
      "source": [
        "# Question 7"
      ],
      "metadata": {
        "id": "5KAU2DDpYUO_"
      }
    }
  ]
}