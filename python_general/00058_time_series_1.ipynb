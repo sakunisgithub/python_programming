{
 "cells": [
  {
   "cell_type": "code",
   "execution_count": 1,
   "id": "4b9b2ced",
   "metadata": {},
   "outputs": [],
   "source": [
    "import pandas as pd\n",
    "import numpy as np\n",
    "\n",
    "years = np.array(['1953-54', '1954-55', '1955-56', '1956-57', '1957-58', '1958-59'])\n",
    "\n",
    "first_quarter = np.array([3575, 3867, 4669, 4693, 5518, 6523])\n",
    "second_quarter = np.array([4342, 4404, 5327, 5640, 6887, 9808])\n",
    "third_quarter = np.array([4435, 5726, 5811, 5957, 7782, 10149])\n",
    "fourth_quarter = np.array([10191, 9816, 10350, 12961, 19718, 25510])\n",
    "\n",
    "expenditure_dictionary = {\n",
    "    'Years' : years,\n",
    "    'Apr - Jun' : first_quarter,\n",
    "    'Jul - Sep' : second_quarter,\n",
    "    'Oct - Dec' : third_quarter,\n",
    "    'Jan - Mar' : fourth_quarter\n",
    "}\n",
    "\n",
    "expenditure_dataframe = pd.DataFrame(expenditure_dictionary)"
   ]
  },
  {
   "cell_type": "markdown",
   "id": "3d5ca74b",
   "metadata": {},
   "source": [
    "#### The data related to the revenue expenditure, Goverment of India, during the years 1953-54 to 1958-59 for the four quarters ::"
   ]
  },
  {
   "cell_type": "code",
   "execution_count": 15,
   "id": "91834bb1",
   "metadata": {},
   "outputs": [
    {
     "data": {
      "text/html": [
       "<div>\n",
       "<style scoped>\n",
       "    .dataframe tbody tr th:only-of-type {\n",
       "        vertical-align: middle;\n",
       "    }\n",
       "\n",
       "    .dataframe tbody tr th {\n",
       "        vertical-align: top;\n",
       "    }\n",
       "\n",
       "    .dataframe thead th {\n",
       "        text-align: right;\n",
       "    }\n",
       "</style>\n",
       "<table border=\"1\" class=\"dataframe\">\n",
       "  <thead>\n",
       "    <tr style=\"text-align: right;\">\n",
       "      <th></th>\n",
       "      <th>Years</th>\n",
       "      <th>Apr - Jun</th>\n",
       "      <th>Jul - Sep</th>\n",
       "      <th>Oct - Dec</th>\n",
       "      <th>Jan - Mar</th>\n",
       "    </tr>\n",
       "  </thead>\n",
       "  <tbody>\n",
       "    <tr>\n",
       "      <th>0</th>\n",
       "      <td>1953-54</td>\n",
       "      <td>3575</td>\n",
       "      <td>4342</td>\n",
       "      <td>4435</td>\n",
       "      <td>10191</td>\n",
       "    </tr>\n",
       "    <tr>\n",
       "      <th>1</th>\n",
       "      <td>1954-55</td>\n",
       "      <td>3867</td>\n",
       "      <td>4404</td>\n",
       "      <td>5726</td>\n",
       "      <td>9816</td>\n",
       "    </tr>\n",
       "    <tr>\n",
       "      <th>2</th>\n",
       "      <td>1955-56</td>\n",
       "      <td>4669</td>\n",
       "      <td>5327</td>\n",
       "      <td>5811</td>\n",
       "      <td>10350</td>\n",
       "    </tr>\n",
       "    <tr>\n",
       "      <th>3</th>\n",
       "      <td>1956-57</td>\n",
       "      <td>4693</td>\n",
       "      <td>5640</td>\n",
       "      <td>5957</td>\n",
       "      <td>12961</td>\n",
       "    </tr>\n",
       "    <tr>\n",
       "      <th>4</th>\n",
       "      <td>1957-58</td>\n",
       "      <td>5518</td>\n",
       "      <td>6887</td>\n",
       "      <td>7782</td>\n",
       "      <td>19718</td>\n",
       "    </tr>\n",
       "    <tr>\n",
       "      <th>5</th>\n",
       "      <td>1958-59</td>\n",
       "      <td>6523</td>\n",
       "      <td>9808</td>\n",
       "      <td>10149</td>\n",
       "      <td>25510</td>\n",
       "    </tr>\n",
       "  </tbody>\n",
       "</table>\n",
       "</div>"
      ],
      "text/plain": [
       "     Years  Apr - Jun  Jul - Sep  Oct - Dec  Jan - Mar\n",
       "0  1953-54       3575       4342       4435      10191\n",
       "1  1954-55       3867       4404       5726       9816\n",
       "2  1955-56       4669       5327       5811      10350\n",
       "3  1956-57       4693       5640       5957      12961\n",
       "4  1957-58       5518       6887       7782      19718\n",
       "5  1958-59       6523       9808      10149      25510"
      ]
     },
     "execution_count": 15,
     "metadata": {},
     "output_type": "execute_result"
    }
   ],
   "source": [
    "expenditure_dataframe"
   ]
  },
  {
   "cell_type": "markdown",
   "id": "ce8f4d78",
   "metadata": {},
   "source": [
    "#### First we shall fit a polynomial of degree 2 to this data, by the principle of least squares"
   ]
  },
  {
   "cell_type": "code",
   "execution_count": 16,
   "id": "294dd624",
   "metadata": {},
   "outputs": [
    {
     "data": {
      "text/html": [
       "<div>\n",
       "<style scoped>\n",
       "    .dataframe tbody tr th:only-of-type {\n",
       "        vertical-align: middle;\n",
       "    }\n",
       "\n",
       "    .dataframe tbody tr th {\n",
       "        vertical-align: top;\n",
       "    }\n",
       "\n",
       "    .dataframe thead th {\n",
       "        text-align: right;\n",
       "    }\n",
       "</style>\n",
       "<table border=\"1\" class=\"dataframe\">\n",
       "  <thead>\n",
       "    <tr style=\"text-align: right;\">\n",
       "      <th></th>\n",
       "      <th>Years</th>\n",
       "      <th>Total Expenditure</th>\n",
       "      <th>Average of Quarterly Expenditure</th>\n",
       "    </tr>\n",
       "  </thead>\n",
       "  <tbody>\n",
       "    <tr>\n",
       "      <th>0</th>\n",
       "      <td>1953-54</td>\n",
       "      <td>22543.0</td>\n",
       "      <td>5635.75</td>\n",
       "    </tr>\n",
       "    <tr>\n",
       "      <th>1</th>\n",
       "      <td>1954-55</td>\n",
       "      <td>23813.0</td>\n",
       "      <td>5953.25</td>\n",
       "    </tr>\n",
       "    <tr>\n",
       "      <th>2</th>\n",
       "      <td>1955-56</td>\n",
       "      <td>26157.0</td>\n",
       "      <td>6539.25</td>\n",
       "    </tr>\n",
       "    <tr>\n",
       "      <th>3</th>\n",
       "      <td>1956-57</td>\n",
       "      <td>29251.0</td>\n",
       "      <td>7312.75</td>\n",
       "    </tr>\n",
       "    <tr>\n",
       "      <th>4</th>\n",
       "      <td>1957-58</td>\n",
       "      <td>39905.0</td>\n",
       "      <td>9976.25</td>\n",
       "    </tr>\n",
       "    <tr>\n",
       "      <th>5</th>\n",
       "      <td>1958-59</td>\n",
       "      <td>51990.0</td>\n",
       "      <td>12997.50</td>\n",
       "    </tr>\n",
       "  </tbody>\n",
       "</table>\n",
       "</div>"
      ],
      "text/plain": [
       "     Years  Total Expenditure  Average of Quarterly Expenditure\n",
       "0  1953-54            22543.0                           5635.75\n",
       "1  1954-55            23813.0                           5953.25\n",
       "2  1955-56            26157.0                           6539.25\n",
       "3  1956-57            29251.0                           7312.75\n",
       "4  1957-58            39905.0                           9976.25\n",
       "5  1958-59            51990.0                          12997.50"
      ]
     },
     "execution_count": 16,
     "metadata": {},
     "output_type": "execute_result"
    }
   ],
   "source": [
    "total_expenditure_of_years = np.zeros(len(years))\n",
    "\n",
    "for i in range(len(years)) :\n",
    "    total_expenditure_of_years[i] = first_quarter[i] + second_quarter[i] + third_quarter[i] + fourth_quarter[i]\n",
    "\n",
    "average_of_quarterly_expenditure_of_years = np.zeros(len(years))\n",
    "\n",
    "for i in range(len(years)) :\n",
    "    average_of_quarterly_expenditure_of_years[i] = total_expenditure_of_years[i] / 4\n",
    "    \n",
    "dictionary_1 = {\n",
    "    'Years' : years,\n",
    "    'Total Expenditure' : total_expenditure_of_years,\n",
    "    'Average of Quarterly Expenditure' : average_of_quarterly_expenditure_of_years\n",
    "}\n",
    "\n",
    "dataframe_1 = pd.DataFrame(dictionary_1)\n",
    "\n",
    "dataframe_1"
   ]
  },
  {
   "cell_type": "markdown",
   "id": "36b89033",
   "metadata": {},
   "source": [
    "#### Let our trend equation be $$ Y_t = a_0 + a_1 t + a_2 t^2 $$"
   ]
  },
  {
   "cell_type": "markdown",
   "id": "0fba5845",
   "metadata": {},
   "source": [
    "with **origin** = end of last quarter of 1955-56 and **unit** = 4 quarters"
   ]
  },
  {
   "cell_type": "code",
   "execution_count": 4,
   "id": "54ddf8bf",
   "metadata": {},
   "outputs": [],
   "source": [
    "t = np.array([-3, -2, -1, 1, 2, 3])\n",
    "\n",
    "t_square = t**2\n",
    "\n",
    "t_cube = t**3\n",
    "\n",
    "t_four = t**4\n",
    "\n",
    "t_times_y_t = t * average_of_quarterly_expenditure_of_years\n",
    "\n",
    "t_square_times_y_t = t_square * average_of_quarterly_expenditure_of_years"
   ]
  },
  {
   "cell_type": "code",
   "execution_count": 19,
   "id": "9ddfc516",
   "metadata": {},
   "outputs": [
    {
     "data": {
      "text/html": [
       "<div>\n",
       "<style scoped>\n",
       "    .dataframe tbody tr th:only-of-type {\n",
       "        vertical-align: middle;\n",
       "    }\n",
       "\n",
       "    .dataframe tbody tr th {\n",
       "        vertical-align: top;\n",
       "    }\n",
       "\n",
       "    .dataframe thead th {\n",
       "        text-align: right;\n",
       "    }\n",
       "</style>\n",
       "<table border=\"1\" class=\"dataframe\">\n",
       "  <thead>\n",
       "    <tr style=\"text-align: right;\">\n",
       "      <th></th>\n",
       "      <th>Years</th>\n",
       "      <th>Total Expenditure</th>\n",
       "      <th>Average of Quarterly Expenditure</th>\n",
       "      <th>t</th>\n",
       "      <th>t^2</th>\n",
       "      <th>t^3</th>\n",
       "      <th>t^4</th>\n",
       "      <th>t * yt</th>\n",
       "      <th>t^2 * yt</th>\n",
       "    </tr>\n",
       "  </thead>\n",
       "  <tbody>\n",
       "    <tr>\n",
       "      <th>0</th>\n",
       "      <td>1953-54</td>\n",
       "      <td>22543.0</td>\n",
       "      <td>5635.75</td>\n",
       "      <td>-3</td>\n",
       "      <td>9</td>\n",
       "      <td>-27</td>\n",
       "      <td>81</td>\n",
       "      <td>-16907.25</td>\n",
       "      <td>50721.75</td>\n",
       "    </tr>\n",
       "    <tr>\n",
       "      <th>1</th>\n",
       "      <td>1954-55</td>\n",
       "      <td>23813.0</td>\n",
       "      <td>5953.25</td>\n",
       "      <td>-2</td>\n",
       "      <td>4</td>\n",
       "      <td>-8</td>\n",
       "      <td>16</td>\n",
       "      <td>-11906.50</td>\n",
       "      <td>23813.00</td>\n",
       "    </tr>\n",
       "    <tr>\n",
       "      <th>2</th>\n",
       "      <td>1955-56</td>\n",
       "      <td>26157.0</td>\n",
       "      <td>6539.25</td>\n",
       "      <td>-1</td>\n",
       "      <td>1</td>\n",
       "      <td>-1</td>\n",
       "      <td>1</td>\n",
       "      <td>-6539.25</td>\n",
       "      <td>6539.25</td>\n",
       "    </tr>\n",
       "    <tr>\n",
       "      <th>3</th>\n",
       "      <td>1956-57</td>\n",
       "      <td>29251.0</td>\n",
       "      <td>7312.75</td>\n",
       "      <td>1</td>\n",
       "      <td>1</td>\n",
       "      <td>1</td>\n",
       "      <td>1</td>\n",
       "      <td>7312.75</td>\n",
       "      <td>7312.75</td>\n",
       "    </tr>\n",
       "    <tr>\n",
       "      <th>4</th>\n",
       "      <td>1957-58</td>\n",
       "      <td>39905.0</td>\n",
       "      <td>9976.25</td>\n",
       "      <td>2</td>\n",
       "      <td>4</td>\n",
       "      <td>8</td>\n",
       "      <td>16</td>\n",
       "      <td>19952.50</td>\n",
       "      <td>39905.00</td>\n",
       "    </tr>\n",
       "    <tr>\n",
       "      <th>5</th>\n",
       "      <td>1958-59</td>\n",
       "      <td>51990.0</td>\n",
       "      <td>12997.50</td>\n",
       "      <td>3</td>\n",
       "      <td>9</td>\n",
       "      <td>27</td>\n",
       "      <td>81</td>\n",
       "      <td>38992.50</td>\n",
       "      <td>116977.50</td>\n",
       "    </tr>\n",
       "  </tbody>\n",
       "</table>\n",
       "</div>"
      ],
      "text/plain": [
       "     Years  Total Expenditure  Average of Quarterly Expenditure  t  t^2  t^3  \\\n",
       "0  1953-54            22543.0                           5635.75 -3    9  -27   \n",
       "1  1954-55            23813.0                           5953.25 -2    4   -8   \n",
       "2  1955-56            26157.0                           6539.25 -1    1   -1   \n",
       "3  1956-57            29251.0                           7312.75  1    1    1   \n",
       "4  1957-58            39905.0                           9976.25  2    4    8   \n",
       "5  1958-59            51990.0                          12997.50  3    9   27   \n",
       "\n",
       "   t^4    t * yt   t^2 * yt  \n",
       "0   81 -16907.25   50721.75  \n",
       "1   16 -11906.50   23813.00  \n",
       "2    1  -6539.25    6539.25  \n",
       "3    1   7312.75    7312.75  \n",
       "4   16  19952.50   39905.00  \n",
       "5   81  38992.50  116977.50  "
      ]
     },
     "execution_count": 19,
     "metadata": {},
     "output_type": "execute_result"
    }
   ],
   "source": [
    "update_dictionary = {\n",
    "    't' : t,\n",
    "    't^2' : t_square,\n",
    "    't^3' : t_cube,\n",
    "    't^4' : t_four,\n",
    "    't * yt' : t_times_y_t,\n",
    "    't^2 * yt' : t_square_times_y_t\n",
    "}\n",
    "\n",
    "dictionary_1.update(update_dictionary)\n",
    "\n",
    "dataframe_2 = pd.DataFrame(dictionary_1)\n",
    "\n",
    "dataframe_2"
   ]
  },
  {
   "cell_type": "code",
   "execution_count": 6,
   "id": "0f19d0a4",
   "metadata": {},
   "outputs": [],
   "source": [
    "sum_yt = np.sum(average_of_quarterly_expenditure_of_years)\n",
    "\n",
    "sum_t = np.sum(t)\n",
    "\n",
    "sum_t_square = np.sum(t_square)\n",
    "\n",
    "sum_t_cube = np.sum(t_cube)\n",
    "\n",
    "sum_t_four = np.sum(t_four)\n",
    "\n",
    "sum_t_into_yt = np.sum(t_times_y_t)\n",
    "\n",
    "sum_t_square_into_yt = np.sum(t_square_times_y_t)"
   ]
  },
  {
   "cell_type": "code",
   "execution_count": 7,
   "id": "d0124f18",
   "metadata": {},
   "outputs": [
    {
     "name": "stdout",
     "output_type": "stream",
     "text": [
      "Sum of t = 0\n",
      "Sum of t_square = 28\n",
      "Sum of t_cube = 0\n",
      "Sum of t_four = 196\n",
      "Sum of y_t = 48414.75\n",
      "Sum of t * y_t = 30904.75\n",
      "Sum of t^2 * y_t = 245269.25\n"
     ]
    }
   ],
   "source": [
    "print(f\"Sum of t = {sum_t}\")\n",
    "\n",
    "print(f\"Sum of t_square = {sum_t_square}\")\n",
    "\n",
    "print(f\"Sum of t_cube = {sum_t_cube}\")\n",
    "\n",
    "print(f\"Sum of t_four = {sum_t_four}\")\n",
    "\n",
    "print(f\"Sum of y_t = {sum_yt}\")\n",
    "\n",
    "print(f\"Sum of t * y_t = {sum_t_into_yt}\")\n",
    "\n",
    "print(f\"Sum of t^2 * y_t = {sum_t_square_into_yt}\")"
   ]
  },
  {
   "cell_type": "markdown",
   "id": "6ec2afa7",
   "metadata": {},
   "source": [
    "### The normal equations are as follows :"
   ]
  },
  {
   "cell_type": "markdown",
   "id": "69e7abe8",
   "metadata": {},
   "source": [
    "$$ 48414.75 = 6a_0 + 28a_2 $$\n",
    "$$ 30904.75 = 28a_1 $$\n",
    "$$ 245269.25 = 28a_0 + 196a_2 $$"
   ]
  },
  {
   "cell_type": "markdown",
   "id": "453968c1",
   "metadata": {},
   "source": [
    "### Solving the normal equations, we get the trend equation as :"
   ]
  },
  {
   "cell_type": "markdown",
   "id": "f14add75",
   "metadata": {},
   "source": [
    "$$ Y_t = 6688.142578 + 1103.741t + 295.924805t^2 $$"
   ]
  },
  {
   "cell_type": "markdown",
   "id": "cef38706",
   "metadata": {},
   "source": [
    "### Writing t/4 for t in the equation we get :"
   ]
  },
  {
   "cell_type": "markdown",
   "id": "90a56008",
   "metadata": {},
   "source": [
    "$$ Y_t = 6688.142578 + 275.93t + 18.55t^2 $$"
   ]
  },
  {
   "cell_type": "markdown",
   "id": "ad0727d1",
   "metadata": {},
   "source": [
    "with **origin** = end of last quarter of 1955-56 and **unit** = 1 quarter"
   ]
  },
  {
   "cell_type": "markdown",
   "id": "4bccdc2d",
   "metadata": {},
   "source": [
    "### Writing t+0.5 for t in the equation we get :"
   ]
  },
  {
   "cell_type": "markdown",
   "id": "b27d5a95",
   "metadata": {},
   "source": [
    "$$ Y_t = 6,830.745 + 313.03t + 18.55t^2 $$"
   ]
  },
  {
   "cell_type": "markdown",
   "id": "1ffe614a",
   "metadata": {},
   "source": [
    "with **origin** = mid-point of first quarter of 1956-57 and **unit** = 1 quarter"
   ]
  },
  {
   "cell_type": "markdown",
   "id": "d181381f",
   "metadata": {},
   "source": [
    "### Now we shall calculate the trend values for all the quarters :"
   ]
  },
  {
   "cell_type": "code",
   "execution_count": 20,
   "id": "6dfc7202",
   "metadata": {},
   "outputs": [
    {
     "data": {
      "text/html": [
       "<div>\n",
       "<style scoped>\n",
       "    .dataframe tbody tr th:only-of-type {\n",
       "        vertical-align: middle;\n",
       "    }\n",
       "\n",
       "    .dataframe tbody tr th {\n",
       "        vertical-align: top;\n",
       "    }\n",
       "\n",
       "    .dataframe thead th {\n",
       "        text-align: right;\n",
       "    }\n",
       "</style>\n",
       "<table border=\"1\" class=\"dataframe\">\n",
       "  <thead>\n",
       "    <tr style=\"text-align: right;\">\n",
       "      <th></th>\n",
       "      <th>Years</th>\n",
       "      <th>Apr - Jun</th>\n",
       "      <th>Jul - Sep</th>\n",
       "      <th>Oct - Dec</th>\n",
       "      <th>Jan - Mar</th>\n",
       "    </tr>\n",
       "  </thead>\n",
       "  <tbody>\n",
       "    <tr>\n",
       "      <th>0</th>\n",
       "      <td>1953-54</td>\n",
       "      <td>5745.585</td>\n",
       "      <td>5631.965</td>\n",
       "      <td>5555.445</td>\n",
       "      <td>5516.025</td>\n",
       "    </tr>\n",
       "    <tr>\n",
       "      <th>1</th>\n",
       "      <td>1954-55</td>\n",
       "      <td>5513.705</td>\n",
       "      <td>5548.485</td>\n",
       "      <td>5620.365</td>\n",
       "      <td>5729.345</td>\n",
       "    </tr>\n",
       "    <tr>\n",
       "      <th>2</th>\n",
       "      <td>1955-56</td>\n",
       "      <td>5875.425</td>\n",
       "      <td>6058.605</td>\n",
       "      <td>6278.885</td>\n",
       "      <td>6536.265</td>\n",
       "    </tr>\n",
       "    <tr>\n",
       "      <th>3</th>\n",
       "      <td>1956-57</td>\n",
       "      <td>6830.745</td>\n",
       "      <td>7162.325</td>\n",
       "      <td>7531.005</td>\n",
       "      <td>7936.785</td>\n",
       "    </tr>\n",
       "    <tr>\n",
       "      <th>4</th>\n",
       "      <td>1957-58</td>\n",
       "      <td>8379.665</td>\n",
       "      <td>8859.645</td>\n",
       "      <td>9376.725</td>\n",
       "      <td>9930.905</td>\n",
       "    </tr>\n",
       "    <tr>\n",
       "      <th>5</th>\n",
       "      <td>1958-59</td>\n",
       "      <td>10522.185</td>\n",
       "      <td>11150.565</td>\n",
       "      <td>11816.045</td>\n",
       "      <td>12518.625</td>\n",
       "    </tr>\n",
       "  </tbody>\n",
       "</table>\n",
       "</div>"
      ],
      "text/plain": [
       "     Years  Apr - Jun  Jul - Sep  Oct - Dec  Jan - Mar\n",
       "0  1953-54   5745.585   5631.965   5555.445   5516.025\n",
       "1  1954-55   5513.705   5548.485   5620.365   5729.345\n",
       "2  1955-56   5875.425   6058.605   6278.885   6536.265\n",
       "3  1956-57   6830.745   7162.325   7531.005   7936.785\n",
       "4  1957-58   8379.665   8859.645   9376.725   9930.905\n",
       "5  1958-59  10522.185  11150.565  11816.045  12518.625"
      ]
     },
     "execution_count": 20,
     "metadata": {},
     "output_type": "execute_result"
    }
   ],
   "source": [
    "def our_curve(x) :\n",
    "    value = 6830.745 + 313.03 * x + 18.55 * (x**2)\n",
    "    return value\n",
    "\n",
    "trend_values = np.zeros(24)\n",
    "\n",
    "for i in range(-12, 12) :\n",
    "    trend_values[i+12] = our_curve(i)\n",
    "\n",
    "trend_values_reshaped = trend_values.reshape(6, 4)\n",
    "\n",
    "dataframe_3 = pd.DataFrame(data = trend_values_reshaped,\n",
    "                          columns = ['Apr - Jun', 'Jul - Sep', 'Oct - Dec', 'Jan - Mar'])\n",
    "\n",
    "dataframe_3.insert(0, 'Years', years, True)\n",
    "\n",
    "dataframe_3"
   ]
  },
  {
   "cell_type": "markdown",
   "id": "b409bf69",
   "metadata": {},
   "source": [
    "### Now we shall calculate the Trend-Ratios i.e. the original values as % of trend values"
   ]
  },
  {
   "cell_type": "code",
   "execution_count": 21,
   "id": "9caeaea4",
   "metadata": {},
   "outputs": [
    {
     "data": {
      "text/html": [
       "<div>\n",
       "<style scoped>\n",
       "    .dataframe tbody tr th:only-of-type {\n",
       "        vertical-align: middle;\n",
       "    }\n",
       "\n",
       "    .dataframe tbody tr th {\n",
       "        vertical-align: top;\n",
       "    }\n",
       "\n",
       "    .dataframe thead th {\n",
       "        text-align: right;\n",
       "    }\n",
       "</style>\n",
       "<table border=\"1\" class=\"dataframe\">\n",
       "  <thead>\n",
       "    <tr style=\"text-align: right;\">\n",
       "      <th></th>\n",
       "      <th>Years</th>\n",
       "      <th>Apr - Jun</th>\n",
       "      <th>Jul - Sep</th>\n",
       "      <th>Oct - Dec</th>\n",
       "      <th>Jan - Mar</th>\n",
       "    </tr>\n",
       "  </thead>\n",
       "  <tbody>\n",
       "    <tr>\n",
       "      <th>0</th>\n",
       "      <td>1953-54</td>\n",
       "      <td>62.22</td>\n",
       "      <td>77.10</td>\n",
       "      <td>79.83</td>\n",
       "      <td>184.75</td>\n",
       "    </tr>\n",
       "    <tr>\n",
       "      <th>1</th>\n",
       "      <td>1954-55</td>\n",
       "      <td>70.13</td>\n",
       "      <td>79.37</td>\n",
       "      <td>101.88</td>\n",
       "      <td>171.33</td>\n",
       "    </tr>\n",
       "    <tr>\n",
       "      <th>2</th>\n",
       "      <td>1955-56</td>\n",
       "      <td>79.47</td>\n",
       "      <td>87.92</td>\n",
       "      <td>92.55</td>\n",
       "      <td>158.35</td>\n",
       "    </tr>\n",
       "    <tr>\n",
       "      <th>3</th>\n",
       "      <td>1956-57</td>\n",
       "      <td>68.70</td>\n",
       "      <td>78.75</td>\n",
       "      <td>79.10</td>\n",
       "      <td>163.30</td>\n",
       "    </tr>\n",
       "    <tr>\n",
       "      <th>4</th>\n",
       "      <td>1957-58</td>\n",
       "      <td>65.85</td>\n",
       "      <td>77.73</td>\n",
       "      <td>82.99</td>\n",
       "      <td>198.55</td>\n",
       "    </tr>\n",
       "    <tr>\n",
       "      <th>5</th>\n",
       "      <td>1958-59</td>\n",
       "      <td>61.99</td>\n",
       "      <td>87.96</td>\n",
       "      <td>85.89</td>\n",
       "      <td>203.78</td>\n",
       "    </tr>\n",
       "  </tbody>\n",
       "</table>\n",
       "</div>"
      ],
      "text/plain": [
       "     Years  Apr - Jun  Jul - Sep  Oct - Dec  Jan - Mar\n",
       "0  1953-54      62.22      77.10      79.83     184.75\n",
       "1  1954-55      70.13      79.37     101.88     171.33\n",
       "2  1955-56      79.47      87.92      92.55     158.35\n",
       "3  1956-57      68.70      78.75      79.10     163.30\n",
       "4  1957-58      65.85      77.73      82.99     198.55\n",
       "5  1958-59      61.99      87.96      85.89     203.78"
      ]
     },
     "execution_count": 21,
     "metadata": {},
     "output_type": "execute_result"
    }
   ],
   "source": [
    "original_values = np.array(expenditure_dataframe[expenditure_dataframe.columns[1:]])\n",
    "\n",
    "original_values = original_values.ravel()\n",
    "\n",
    "trend_ratios = np.zeros(24)\n",
    "\n",
    "for i in range(24) :\n",
    "    trend_ratios[i] = (original_values[i] / trend_values[i]) * 100\n",
    "    trend_ratios[i] = round(trend_ratios[i], 2)\n",
    "\n",
    "trend_ratios_reshaped = trend_ratios.reshape(6, 4)\n",
    "\n",
    "dataframe_4 = pd.DataFrame(data = trend_ratios_reshaped,\n",
    "                          columns = ['Apr - Jun', 'Jul - Sep', 'Oct - Dec', 'Jan - Mar'])\n",
    "\n",
    "dataframe_4.insert(0, 'Years', years, True)\n",
    "\n",
    "dataframe_4"
   ]
  },
  {
   "cell_type": "markdown",
   "id": "1f31a20c",
   "metadata": {},
   "source": [
    "### Evaluating Adjusted Seasonal Indices :"
   ]
  },
  {
   "cell_type": "code",
   "execution_count": 10,
   "id": "4bcb7acb",
   "metadata": {},
   "outputs": [],
   "source": [
    "average = trend_ratios_reshaped.mean(axis = 0)\n",
    "\n",
    "sums = sum(average)\n",
    "\n",
    "k = 400 / sums\n",
    "\n",
    "adjusted_seasonal_indices = np.zeros(4)\n",
    "\n",
    "for i in range(len(average)) :\n",
    "    adjusted_seasonal_indices[i] = average[i] * k"
   ]
  },
  {
   "cell_type": "code",
   "execution_count": 22,
   "id": "8b0d987d",
   "metadata": {},
   "outputs": [
    {
     "data": {
      "text/html": [
       "<div>\n",
       "<style scoped>\n",
       "    .dataframe tbody tr th:only-of-type {\n",
       "        vertical-align: middle;\n",
       "    }\n",
       "\n",
       "    .dataframe tbody tr th {\n",
       "        vertical-align: top;\n",
       "    }\n",
       "\n",
       "    .dataframe thead th {\n",
       "        text-align: right;\n",
       "    }\n",
       "</style>\n",
       "<table border=\"1\" class=\"dataframe\">\n",
       "  <thead>\n",
       "    <tr style=\"text-align: right;\">\n",
       "      <th></th>\n",
       "      <th>0</th>\n",
       "      <th>Apr - Jun</th>\n",
       "      <th>Jul - Sep</th>\n",
       "      <th>Oct - Dec</th>\n",
       "      <th>Jan - Mar</th>\n",
       "    </tr>\n",
       "  </thead>\n",
       "  <tbody>\n",
       "    <tr>\n",
       "      <th>0</th>\n",
       "      <td>Average (A.M.) (Seasonal Indices))</td>\n",
       "      <td>68.060000</td>\n",
       "      <td>81.471667</td>\n",
       "      <td>87.040000</td>\n",
       "      <td>180.01000</td>\n",
       "    </tr>\n",
       "    <tr>\n",
       "      <th>1</th>\n",
       "      <td>Adjusted Seasonal Indices</td>\n",
       "      <td>65.350932</td>\n",
       "      <td>78.228759</td>\n",
       "      <td>83.575449</td>\n",
       "      <td>172.84486</td>\n",
       "    </tr>\n",
       "  </tbody>\n",
       "</table>\n",
       "</div>"
      ],
      "text/plain": [
       "                                    0  Apr - Jun  Jul - Sep  Oct - Dec  \\\n",
       "0  Average (A.M.) (Seasonal Indices))  68.060000  81.471667  87.040000   \n",
       "1           Adjusted Seasonal Indices  65.350932  78.228759  83.575449   \n",
       "\n",
       "   Jan - Mar  \n",
       "0  180.01000  \n",
       "1  172.84486  "
      ]
     },
     "execution_count": 22,
     "metadata": {},
     "output_type": "execute_result"
    }
   ],
   "source": [
    "my_array = np.concatenate((average, adjusted_seasonal_indices))\n",
    "\n",
    "my_array = my_array.reshape(2, 4)\n",
    "\n",
    "dataframe_5 = pd.DataFrame(data = my_array,\n",
    "                          columns = ['Apr - Jun', 'Jul - Sep', 'Oct - Dec', 'Jan - Mar'])\n",
    "\n",
    "dataframe_5.insert(0, '0', ['Average (A.M.) (Seasonal Indices))', 'Adjusted Seasonal Indices'])\n",
    "\n",
    "dataframe_5"
   ]
  },
  {
   "cell_type": "code",
   "execution_count": 12,
   "id": "c74f67a6",
   "metadata": {},
   "outputs": [
    {
     "data": {
      "image/png": "[encoded data removed]",
      "text/plain": [
       "<Figure size 640x480 with 1 Axes>"
      ]
     },
     "metadata": {},
     "output_type": "display_data"
    }
   ],
   "source": [
    "from matplotlib import pyplot as plt\n",
    "\n",
    "quarters = np.arange(1, 25)\n",
    "\n",
    "plt.scatter(quarters, original_values, marker = \"X\", s = 100, c = 'g')\n",
    "\n",
    "plt.xlabel(\"Quaters\")\n",
    "plt.ylabel(\"Original Values\")\n",
    "plt.title(\"Original Values in the Quarters\")\n",
    "\n",
    "plt.show()"
   ]
  },
  {
   "cell_type": "code",
   "execution_count": 13,
   "id": "020ea21d",
   "metadata": {},
   "outputs": [
    {
     "data": {
      "image/png": "[encoded data removed]",
      "text/plain": [
       "<Figure size 640x480 with 1 Axes>"
      ]
     },
     "metadata": {},
     "output_type": "display_data"
    }
   ],
   "source": [
    "plt.scatter(quarters, trend_values, marker = \"o\", c = 'c', s = 100)\n",
    "\n",
    "plt.xlabel(\"Quarters\")\n",
    "plt.ylabel(\"Trend Values\")\n",
    "plt.title(\"Trend Values in the Quarters\")\n",
    "\n",
    "plt.show()"
   ]
  },
  {
   "cell_type": "code",
   "execution_count": 14,
   "id": "72389edb",
   "metadata": {},
   "outputs": [
    {
     "data": {
      "image/png": "[encoded data removed]",
      "text/plain": [
       "<Figure size 640x480 with 1 Axes>"
      ]
     },
     "metadata": {},
     "output_type": "display_data"
    }
   ],
   "source": [
    "plt.scatter(quarters, trend_ratios, marker = \"X\", c = 'r', s = 100)\n",
    "\n",
    "plt.xlabel(\"Quarters\")\n",
    "plt.ylabel(\"Trend Ratios\")\n",
    "plt.title(\"Trend Ratios in the Quarters\")\n",
    "\n",
    "plt.show()"
   ]
  },
  {
   "cell_type": "code",
   "execution_count": null,
   "id": "17fd3598",
   "metadata": {},
   "outputs": [],
   "source": []
  }
 ],
 "metadata": {
  "kernelspec": {
   "display_name": "Python 3 (ipykernel)",
   "language": "python",
   "name": "python3"
  },
  "language_info": {
   "codemirror_mode": {
    "name": "ipython",
    "version": 3
   },
   "file_extension": ".py",
   "mimetype": "text/x-python",
   "name": "python",
   "nbconvert_exporter": "python",
   "pygments_lexer": "ipython3",
   "version": "3.11.0"
  }
 },
 "nbformat": 4,
 "nbformat_minor": 5
}
