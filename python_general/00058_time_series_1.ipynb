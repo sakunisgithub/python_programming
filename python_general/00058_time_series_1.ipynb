{
 "cells": [
  {
   "cell_type": "code",
   "execution_count": 1,
   "id": "4b9b2ced",
   "metadata": {},
   "outputs": [],
   "source": [
    "import pandas as pd\n",
    "import numpy as np\n",
    "\n",
    "years = np.array(['1953-54', '1954-55', '1955-56', '1956-57', '1957-58', '1958-59'])\n",
    "\n",
    "first_quarter = np.array([3575, 3867, 4669, 4693, 5518, 6523])\n",
    "second_quarter = np.array([4342, 4404, 5327, 5640, 6887, 9808])\n",
    "third_quarter = np.array([4435, 5726, 5811, 5957, 7782, 10149])\n",
    "fourth_quarter = np.array([10191, 9816, 10350, 12961, 19718, 25510])\n",
    "\n",
    "expenditure_dictionary = {\n",
    "    'Years' : years,\n",
    "    'Apr - Jun' : first_quarter,\n",
    "    'Jul - Sep' : second_quarter,\n",
    "    'Oct - Dec' : third_quarter,\n",
    "    'Jan - Mar' : fourth_quarter\n",
    "}\n",
    "\n",
    "expenditure_dataframe = pd.DataFrame(expenditure_dictionary)"
   ]
  },
  {
   "cell_type": "markdown",
   "id": "3d5ca74b",
   "metadata": {},
   "source": [
    "#### The data related to the revenue expenditure, Goverment of India, during the years 1953-54 to 1958-59 for the four quarters ::"
   ]
  },
  {
   "cell_type": "code",
   "execution_count": 2,
   "id": "91834bb1",
   "metadata": {},
   "outputs": [
    {
     "data": {
      "text/html": [
       "<div>\n",
       "<style scoped>\n",
       "    .dataframe tbody tr th:only-of-type {\n",
       "        vertical-align: middle;\n",
       "    }\n",
       "\n",
       "    .dataframe tbody tr th {\n",
       "        vertical-align: top;\n",
       "    }\n",
       "\n",
       "    .dataframe thead th {\n",
       "        text-align: right;\n",
       "    }\n",
       "</style>\n",
       "<table border=\"1\" class=\"dataframe\">\n",
       "  <thead>\n",
       "    <tr style=\"text-align: right;\">\n",
       "      <th></th>\n",
       "      <th>Years</th>\n",
       "      <th>Apr - Jun</th>\n",
       "      <th>Jul - Sep</th>\n",
       "      <th>Oct - Dec</th>\n",
       "      <th>Jan - Mar</th>\n",
       "    </tr>\n",
       "  </thead>\n",
       "  <tbody>\n",
       "    <tr>\n",
       "      <th>0</th>\n",
       "      <td>1953-54</td>\n",
       "      <td>3575</td>\n",
       "      <td>4342</td>\n",
       "      <td>4435</td>\n",
       "      <td>10191</td>\n",
       "    </tr>\n",
       "    <tr>\n",
       "      <th>1</th>\n",
       "      <td>1954-55</td>\n",
       "      <td>3867</td>\n",
       "      <td>4404</td>\n",
       "      <td>5726</td>\n",
       "      <td>9816</td>\n",
       "    </tr>\n",
       "    <tr>\n",
       "      <th>2</th>\n",
       "      <td>1955-56</td>\n",
       "      <td>4669</td>\n",
       "      <td>5327</td>\n",
       "      <td>5811</td>\n",
       "      <td>10350</td>\n",
       "    </tr>\n",
       "    <tr>\n",
       "      <th>3</th>\n",
       "      <td>1956-57</td>\n",
       "      <td>4693</td>\n",
       "      <td>5640</td>\n",
       "      <td>5957</td>\n",
       "      <td>12961</td>\n",
       "    </tr>\n",
       "    <tr>\n",
       "      <th>4</th>\n",
       "      <td>1957-58</td>\n",
       "      <td>5518</td>\n",
       "      <td>6887</td>\n",
       "      <td>7782</td>\n",
       "      <td>19718</td>\n",
       "    </tr>\n",
       "    <tr>\n",
       "      <th>5</th>\n",
       "      <td>1958-59</td>\n",
       "      <td>6523</td>\n",
       "      <td>9808</td>\n",
       "      <td>10149</td>\n",
       "      <td>25510</td>\n",
       "    </tr>\n",
       "  </tbody>\n",
       "</table>\n",
       "</div>"
      ],
      "text/plain": [
       "     Years  Apr - Jun  Jul - Sep  Oct - Dec  Jan - Mar\n",
       "0  1953-54       3575       4342       4435      10191\n",
       "1  1954-55       3867       4404       5726       9816\n",
       "2  1955-56       4669       5327       5811      10350\n",
       "3  1956-57       4693       5640       5957      12961\n",
       "4  1957-58       5518       6887       7782      19718\n",
       "5  1958-59       6523       9808      10149      25510"
      ]
     },
     "execution_count": 2,
     "metadata": {},
     "output_type": "execute_result"
    }
   ],
   "source": [
    "expenditure_dataframe"
   ]
  },
  {
   "cell_type": "markdown",
   "id": "ce8f4d78",
   "metadata": {},
   "source": [
    "#### First we shall fit a polynomial of degree 2 to this data, by the principle of least squares"
   ]
  },
  {
   "cell_type": "code",
   "execution_count": 3,
   "id": "294dd624",
   "metadata": {},
   "outputs": [
    {
     "data": {
      "text/html": [
       "<div>\n",
       "<style scoped>\n",
       "    .dataframe tbody tr th:only-of-type {\n",
       "        vertical-align: middle;\n",
       "    }\n",
       "\n",
       "    .dataframe tbody tr th {\n",
       "        vertical-align: top;\n",
       "    }\n",
       "\n",
       "    .dataframe thead th {\n",
       "        text-align: right;\n",
       "    }\n",
       "</style>\n",
       "<table border=\"1\" class=\"dataframe\">\n",
       "  <thead>\n",
       "    <tr style=\"text-align: right;\">\n",
       "      <th></th>\n",
       "      <th>Years</th>\n",
       "      <th>Total Expenditure</th>\n",
       "    </tr>\n",
       "  </thead>\n",
       "  <tbody>\n",
       "    <tr>\n",
       "      <th>0</th>\n",
       "      <td>1953-54</td>\n",
       "      <td>22543.0</td>\n",
       "    </tr>\n",
       "    <tr>\n",
       "      <th>1</th>\n",
       "      <td>1954-55</td>\n",
       "      <td>23813.0</td>\n",
       "    </tr>\n",
       "    <tr>\n",
       "      <th>2</th>\n",
       "      <td>1955-56</td>\n",
       "      <td>26157.0</td>\n",
       "    </tr>\n",
       "    <tr>\n",
       "      <th>3</th>\n",
       "      <td>1956-57</td>\n",
       "      <td>29251.0</td>\n",
       "    </tr>\n",
       "    <tr>\n",
       "      <th>4</th>\n",
       "      <td>1957-58</td>\n",
       "      <td>39905.0</td>\n",
       "    </tr>\n",
       "    <tr>\n",
       "      <th>5</th>\n",
       "      <td>1958-59</td>\n",
       "      <td>51990.0</td>\n",
       "    </tr>\n",
       "  </tbody>\n",
       "</table>\n",
       "</div>"
      ],
      "text/plain": [
       "     Years  Total Expenditure\n",
       "0  1953-54            22543.0\n",
       "1  1954-55            23813.0\n",
       "2  1955-56            26157.0\n",
       "3  1956-57            29251.0\n",
       "4  1957-58            39905.0\n",
       "5  1958-59            51990.0"
      ]
     },
     "execution_count": 3,
     "metadata": {},
     "output_type": "execute_result"
    }
   ],
   "source": [
    "total_expenditure_of_years = np.zeros(len(years))\n",
    "\n",
    "for i in range(len(years)) :\n",
    "    total_expenditure_of_years[i] = first_quarter[i] + second_quarter[i] + third_quarter[i] + fourth_quarter[i]\n",
    "    \n",
    "dictionary_1 = {\n",
    "    'Years' : years,\n",
    "    'Total Expenditure' : total_expenditure_of_years\n",
    "}\n",
    "\n",
    "dataframe_1 = pd.DataFrame(dictionary_1)\n",
    "\n",
    "dataframe_1"
   ]
  },
  {
   "cell_type": "markdown",
   "id": "36b89033",
   "metadata": {},
   "source": [
    "#### Let our trend equation be $$ Y_t = a_0 + a_1 t + a_2 t^2 $$"
   ]
  },
  {
   "cell_type": "markdown",
   "id": "0fba5845",
   "metadata": {},
   "source": [
    "with some chosen **origin**  and **unit**."
   ]
  },
  {
   "cell_type": "markdown",
   "id": "0a15c4ef",
   "metadata": {},
   "source": [
    "### We shall do calculations on the basis of the following table and then we shall adjust our equation according to our necessity."
   ]
  },
  {
   "cell_type": "code",
   "execution_count": 4,
   "id": "cfda7c1a",
   "metadata": {},
   "outputs": [
    {
     "data": {
      "text/html": [
       "<div>\n",
       "<style scoped>\n",
       "    .dataframe tbody tr th:only-of-type {\n",
       "        vertical-align: middle;\n",
       "    }\n",
       "\n",
       "    .dataframe tbody tr th {\n",
       "        vertical-align: top;\n",
       "    }\n",
       "\n",
       "    .dataframe thead th {\n",
       "        text-align: right;\n",
       "    }\n",
       "</style>\n",
       "<table border=\"1\" class=\"dataframe\">\n",
       "  <thead>\n",
       "    <tr style=\"text-align: right;\">\n",
       "      <th></th>\n",
       "      <th>Years</th>\n",
       "      <th>Total Expenditure</th>\n",
       "    </tr>\n",
       "  </thead>\n",
       "  <tbody>\n",
       "    <tr>\n",
       "      <th>0</th>\n",
       "      <td>1953</td>\n",
       "      <td>22543.0</td>\n",
       "    </tr>\n",
       "    <tr>\n",
       "      <th>1</th>\n",
       "      <td>1954</td>\n",
       "      <td>23813.0</td>\n",
       "    </tr>\n",
       "    <tr>\n",
       "      <th>2</th>\n",
       "      <td>1955</td>\n",
       "      <td>26157.0</td>\n",
       "    </tr>\n",
       "    <tr>\n",
       "      <th>3</th>\n",
       "      <td>1956</td>\n",
       "      <td>29251.0</td>\n",
       "    </tr>\n",
       "    <tr>\n",
       "      <th>4</th>\n",
       "      <td>1957</td>\n",
       "      <td>39905.0</td>\n",
       "    </tr>\n",
       "    <tr>\n",
       "      <th>5</th>\n",
       "      <td>1958</td>\n",
       "      <td>51990.0</td>\n",
       "    </tr>\n",
       "  </tbody>\n",
       "</table>\n",
       "</div>"
      ],
      "text/plain": [
       "  Years  Total Expenditure\n",
       "0  1953            22543.0\n",
       "1  1954            23813.0\n",
       "2  1955            26157.0\n",
       "3  1956            29251.0\n",
       "4  1957            39905.0\n",
       "5  1958            51990.0"
      ]
     },
     "execution_count": 4,
     "metadata": {},
     "output_type": "execute_result"
    }
   ],
   "source": [
    "years_1 = np.array(['1953', '1954', '1955', '1956', '1957', '1958'])\n",
    "\n",
    "new_dictionary = {\n",
    "    'Years' : years_1,\n",
    "    'Total Expenditure' : total_expenditure_of_years\n",
    "}\n",
    "\n",
    "new_dataframe = pd.DataFrame(new_dictionary)\n",
    "\n",
    "new_dataframe"
   ]
  },
  {
   "cell_type": "markdown",
   "id": "e13b00f7",
   "metadata": {},
   "source": [
    "#### We consider the mid-point of 1955 and 1956 as the mid-point of our data. And we take t = 2(year - midpoint)"
   ]
  },
  {
   "cell_type": "code",
   "execution_count": 5,
   "id": "54ddf8bf",
   "metadata": {},
   "outputs": [],
   "source": [
    "t = np.array([-5, -3, -1, 1, 3, 5])\n",
    "\n",
    "t_square = t**2\n",
    "\n",
    "t_cube = t**3\n",
    "\n",
    "t_four = t**4\n",
    "\n",
    "t_times_y_t = t * total_expenditure_of_years\n",
    "\n",
    "t_square_times_y_t = t_square * total_expenditure_of_years"
   ]
  },
  {
   "cell_type": "code",
   "execution_count": 6,
   "id": "9ddfc516",
   "metadata": {},
   "outputs": [
    {
     "data": {
      "text/html": [
       "<div>\n",
       "<style scoped>\n",
       "    .dataframe tbody tr th:only-of-type {\n",
       "        vertical-align: middle;\n",
       "    }\n",
       "\n",
       "    .dataframe tbody tr th {\n",
       "        vertical-align: top;\n",
       "    }\n",
       "\n",
       "    .dataframe thead th {\n",
       "        text-align: right;\n",
       "    }\n",
       "</style>\n",
       "<table border=\"1\" class=\"dataframe\">\n",
       "  <thead>\n",
       "    <tr style=\"text-align: right;\">\n",
       "      <th></th>\n",
       "      <th>Years</th>\n",
       "      <th>Total Expenditure</th>\n",
       "      <th>t</th>\n",
       "      <th>t^2</th>\n",
       "      <th>t^3</th>\n",
       "      <th>t^4</th>\n",
       "      <th>t * yt</th>\n",
       "      <th>t^2 * yt</th>\n",
       "    </tr>\n",
       "  </thead>\n",
       "  <tbody>\n",
       "    <tr>\n",
       "      <th>0</th>\n",
       "      <td>1953</td>\n",
       "      <td>22543.0</td>\n",
       "      <td>-5</td>\n",
       "      <td>25</td>\n",
       "      <td>-125</td>\n",
       "      <td>625</td>\n",
       "      <td>-112715.0</td>\n",
       "      <td>563575.0</td>\n",
       "    </tr>\n",
       "    <tr>\n",
       "      <th>1</th>\n",
       "      <td>1954</td>\n",
       "      <td>23813.0</td>\n",
       "      <td>-3</td>\n",
       "      <td>9</td>\n",
       "      <td>-27</td>\n",
       "      <td>81</td>\n",
       "      <td>-71439.0</td>\n",
       "      <td>214317.0</td>\n",
       "    </tr>\n",
       "    <tr>\n",
       "      <th>2</th>\n",
       "      <td>1955</td>\n",
       "      <td>26157.0</td>\n",
       "      <td>-1</td>\n",
       "      <td>1</td>\n",
       "      <td>-1</td>\n",
       "      <td>1</td>\n",
       "      <td>-26157.0</td>\n",
       "      <td>26157.0</td>\n",
       "    </tr>\n",
       "    <tr>\n",
       "      <th>3</th>\n",
       "      <td>1956</td>\n",
       "      <td>29251.0</td>\n",
       "      <td>1</td>\n",
       "      <td>1</td>\n",
       "      <td>1</td>\n",
       "      <td>1</td>\n",
       "      <td>29251.0</td>\n",
       "      <td>29251.0</td>\n",
       "    </tr>\n",
       "    <tr>\n",
       "      <th>4</th>\n",
       "      <td>1957</td>\n",
       "      <td>39905.0</td>\n",
       "      <td>3</td>\n",
       "      <td>9</td>\n",
       "      <td>27</td>\n",
       "      <td>81</td>\n",
       "      <td>119715.0</td>\n",
       "      <td>359145.0</td>\n",
       "    </tr>\n",
       "    <tr>\n",
       "      <th>5</th>\n",
       "      <td>1958</td>\n",
       "      <td>51990.0</td>\n",
       "      <td>5</td>\n",
       "      <td>25</td>\n",
       "      <td>125</td>\n",
       "      <td>625</td>\n",
       "      <td>259950.0</td>\n",
       "      <td>1299750.0</td>\n",
       "    </tr>\n",
       "  </tbody>\n",
       "</table>\n",
       "</div>"
      ],
      "text/plain": [
       "  Years  Total Expenditure  t  t^2  t^3  t^4    t * yt   t^2 * yt\n",
       "0  1953            22543.0 -5   25 -125  625 -112715.0   563575.0\n",
       "1  1954            23813.0 -3    9  -27   81  -71439.0   214317.0\n",
       "2  1955            26157.0 -1    1   -1    1  -26157.0    26157.0\n",
       "3  1956            29251.0  1    1    1    1   29251.0    29251.0\n",
       "4  1957            39905.0  3    9   27   81  119715.0   359145.0\n",
       "5  1958            51990.0  5   25  125  625  259950.0  1299750.0"
      ]
     },
     "execution_count": 6,
     "metadata": {},
     "output_type": "execute_result"
    }
   ],
   "source": [
    "update_dictionary = {\n",
    "    'Years' : years_1,\n",
    "    't' : t,\n",
    "    't^2' : t_square,\n",
    "    't^3' : t_cube,\n",
    "    't^4' : t_four,\n",
    "    't * yt' : t_times_y_t,\n",
    "    't^2 * yt' : t_square_times_y_t\n",
    "}\n",
    "\n",
    "dictionary_1.update(update_dictionary)\n",
    "\n",
    "dataframe_2 = pd.DataFrame(dictionary_1)\n",
    "\n",
    "dataframe_2"
   ]
  },
  {
   "cell_type": "code",
   "execution_count": 7,
   "id": "0f19d0a4",
   "metadata": {},
   "outputs": [],
   "source": [
    "sum_yt = np.sum(total_expenditure_of_years)\n",
    "\n",
    "sum_t = np.sum(t)\n",
    "\n",
    "sum_t_square = np.sum(t_square)\n",
    "\n",
    "sum_t_cube = np.sum(t_cube)\n",
    "\n",
    "sum_t_four = np.sum(t_four)\n",
    "\n",
    "sum_t_into_yt = np.sum(t_times_y_t)\n",
    "\n",
    "sum_t_square_into_yt = np.sum(t_square_times_y_t)"
   ]
  },
  {
   "cell_type": "code",
   "execution_count": 8,
   "id": "d0124f18",
   "metadata": {},
   "outputs": [
    {
     "name": "stdout",
     "output_type": "stream",
     "text": [
      "Sum of t = 0\n",
      "Sum of t_square = 70\n",
      "Sum of t_cube = 0\n",
      "Sum of t_four = 1414\n",
      "Sum of y_t = 193659.0\n",
      "Sum of t * y_t = 198605.0\n",
      "Sum of t^2 * y_t = 2492195.0\n"
     ]
    }
   ],
   "source": [
    "print(f\"Sum of t = {sum_t}\")\n",
    "\n",
    "print(f\"Sum of t_square = {sum_t_square}\")\n",
    "\n",
    "print(f\"Sum of t_cube = {sum_t_cube}\")\n",
    "\n",
    "print(f\"Sum of t_four = {sum_t_four}\")\n",
    "\n",
    "print(f\"Sum of y_t = {sum_yt}\")\n",
    "\n",
    "print(f\"Sum of t * y_t = {sum_t_into_yt}\")\n",
    "\n",
    "print(f\"Sum of t^2 * y_t = {sum_t_square_into_yt}\")"
   ]
  },
  {
   "cell_type": "markdown",
   "id": "6ec2afa7",
   "metadata": {},
   "source": [
    "### The normal equations are as follows :"
   ]
  },
  {
   "cell_type": "markdown",
   "id": "69e7abe8",
   "metadata": {},
   "source": [
    "$$ 193659.0 = 6a_0 + 70a_2 $$\n",
    "$$ 198605.0 = 70a_1 $$\n",
    "$$ 2492195.0 = 70a_0 + 1414a_2 $$"
   ]
  },
  {
   "cell_type": "markdown",
   "id": "453968c1",
   "metadata": {},
   "source": [
    "### Solving the normal equations, we get the trend equation as :"
   ]
  },
  {
   "cell_type": "markdown",
   "id": "f14add75",
   "metadata": {},
   "source": [
    "$$ Y_t = 27728.843750 + 2837.21t + 389.799072t^2 $$"
   ]
  },
  {
   "cell_type": "markdown",
   "id": "cef38706",
   "metadata": {},
   "source": [
    "### Writing t/4 for t in the equation we get :"
   ]
  },
  {
   "cell_type": "markdown",
   "id": "90a56008",
   "metadata": {},
   "source": [
    "$$ Y_t = 6932.21 + 709.30t + 97.45t^2 $$"
   ]
  },
  {
   "cell_type": "markdown",
   "id": "2a69ae4f",
   "metadata": {},
   "source": [
    "### Writing t/2 for t in the equation we get : (to get trend equation for quarterly values)"
   ]
  },
  {
   "cell_type": "markdown",
   "id": "ee7a4d84",
   "metadata": {},
   "source": [
    "$$ Y_t = 6932.21 + 354.65t + 24.36t^2 $$"
   ]
  },
  {
   "cell_type": "markdown",
   "id": "4bccdc2d",
   "metadata": {},
   "source": [
    "### Writing t+0.5 for t in the equation we get :"
   ]
  },
  {
   "cell_type": "markdown",
   "id": "b27d5a95",
   "metadata": {},
   "source": [
    "$$ Y_t = 7115.63 + 379.01t + 24.36t^2 $$"
   ]
  },
  {
   "cell_type": "markdown",
   "id": "1ffe614a",
   "metadata": {},
   "source": [
    "with **origin** = mid-point of first quarter of 1956-57 and **unit** = 1 quarter"
   ]
  },
  {
   "cell_type": "markdown",
   "id": "d181381f",
   "metadata": {},
   "source": [
    "### Now we shall calculate the trend values for all the quarters :"
   ]
  },
  {
   "cell_type": "code",
   "execution_count": 9,
   "id": "6dfc7202",
   "metadata": {},
   "outputs": [
    {
     "data": {
      "text/html": [
       "<div>\n",
       "<style scoped>\n",
       "    .dataframe tbody tr th:only-of-type {\n",
       "        vertical-align: middle;\n",
       "    }\n",
       "\n",
       "    .dataframe tbody tr th {\n",
       "        vertical-align: top;\n",
       "    }\n",
       "\n",
       "    .dataframe thead th {\n",
       "        text-align: right;\n",
       "    }\n",
       "</style>\n",
       "<table border=\"1\" class=\"dataframe\">\n",
       "  <thead>\n",
       "    <tr style=\"text-align: right;\">\n",
       "      <th></th>\n",
       "      <th>Years</th>\n",
       "      <th>Apr - Jun</th>\n",
       "      <th>Jul - Sep</th>\n",
       "      <th>Oct - Dec</th>\n",
       "      <th>Jan - Mar</th>\n",
       "    </tr>\n",
       "  </thead>\n",
       "  <tbody>\n",
       "    <tr>\n",
       "      <th>0</th>\n",
       "      <td>1953-54</td>\n",
       "      <td>6075.35</td>\n",
       "      <td>5894.08</td>\n",
       "      <td>5761.53</td>\n",
       "      <td>5677.70</td>\n",
       "    </tr>\n",
       "    <tr>\n",
       "      <th>1</th>\n",
       "      <td>1954-55</td>\n",
       "      <td>5642.59</td>\n",
       "      <td>5656.20</td>\n",
       "      <td>5718.53</td>\n",
       "      <td>5829.58</td>\n",
       "    </tr>\n",
       "    <tr>\n",
       "      <th>2</th>\n",
       "      <td>1955-56</td>\n",
       "      <td>5989.35</td>\n",
       "      <td>6197.84</td>\n",
       "      <td>6455.05</td>\n",
       "      <td>6760.98</td>\n",
       "    </tr>\n",
       "    <tr>\n",
       "      <th>3</th>\n",
       "      <td>1956-57</td>\n",
       "      <td>7115.63</td>\n",
       "      <td>7519.00</td>\n",
       "      <td>7971.09</td>\n",
       "      <td>8471.90</td>\n",
       "    </tr>\n",
       "    <tr>\n",
       "      <th>4</th>\n",
       "      <td>1957-58</td>\n",
       "      <td>9021.43</td>\n",
       "      <td>9619.68</td>\n",
       "      <td>10266.65</td>\n",
       "      <td>10962.34</td>\n",
       "    </tr>\n",
       "    <tr>\n",
       "      <th>5</th>\n",
       "      <td>1958-59</td>\n",
       "      <td>11706.75</td>\n",
       "      <td>12499.88</td>\n",
       "      <td>13341.73</td>\n",
       "      <td>14232.30</td>\n",
       "    </tr>\n",
       "  </tbody>\n",
       "</table>\n",
       "</div>"
      ],
      "text/plain": [
       "     Years  Apr - Jun  Jul - Sep  Oct - Dec  Jan - Mar\n",
       "0  1953-54    6075.35    5894.08    5761.53    5677.70\n",
       "1  1954-55    5642.59    5656.20    5718.53    5829.58\n",
       "2  1955-56    5989.35    6197.84    6455.05    6760.98\n",
       "3  1956-57    7115.63    7519.00    7971.09    8471.90\n",
       "4  1957-58    9021.43    9619.68   10266.65   10962.34\n",
       "5  1958-59   11706.75   12499.88   13341.73   14232.30"
      ]
     },
     "execution_count": 9,
     "metadata": {},
     "output_type": "execute_result"
    }
   ],
   "source": [
    "def our_curve(x) :\n",
    "    value = 7115.63 + 379.01 * x + 24.36 * (x**2)\n",
    "    return value\n",
    "\n",
    "trend_values = np.zeros(24)\n",
    "\n",
    "for i in range(-12, 12) :\n",
    "    trend_values[i+12] = our_curve(i)\n",
    "\n",
    "trend_values_reshaped = trend_values.reshape(6, 4)\n",
    "\n",
    "dataframe_3 = pd.DataFrame(data = trend_values_reshaped,\n",
    "                          columns = ['Apr - Jun', 'Jul - Sep', 'Oct - Dec', 'Jan - Mar'])\n",
    "\n",
    "dataframe_3.insert(0, 'Years', years, True)\n",
    "\n",
    "dataframe_3"
   ]
  },
  {
   "cell_type": "markdown",
   "id": "b409bf69",
   "metadata": {},
   "source": [
    "### Now we shall calculate the Trend-Ratios i.e. the original values as % of trend values"
   ]
  },
  {
   "cell_type": "code",
   "execution_count": 10,
   "id": "9caeaea4",
   "metadata": {},
   "outputs": [
    {
     "data": {
      "text/html": [
       "<div>\n",
       "<style scoped>\n",
       "    .dataframe tbody tr th:only-of-type {\n",
       "        vertical-align: middle;\n",
       "    }\n",
       "\n",
       "    .dataframe tbody tr th {\n",
       "        vertical-align: top;\n",
       "    }\n",
       "\n",
       "    .dataframe thead th {\n",
       "        text-align: right;\n",
       "    }\n",
       "</style>\n",
       "<table border=\"1\" class=\"dataframe\">\n",
       "  <thead>\n",
       "    <tr style=\"text-align: right;\">\n",
       "      <th></th>\n",
       "      <th>Years</th>\n",
       "      <th>Apr - Jun</th>\n",
       "      <th>Jul - Sep</th>\n",
       "      <th>Oct - Dec</th>\n",
       "      <th>Jan - Mar</th>\n",
       "    </tr>\n",
       "  </thead>\n",
       "  <tbody>\n",
       "    <tr>\n",
       "      <th>0</th>\n",
       "      <td>1953-54</td>\n",
       "      <td>58.84</td>\n",
       "      <td>73.67</td>\n",
       "      <td>76.98</td>\n",
       "      <td>179.49</td>\n",
       "    </tr>\n",
       "    <tr>\n",
       "      <th>1</th>\n",
       "      <td>1954-55</td>\n",
       "      <td>68.53</td>\n",
       "      <td>77.86</td>\n",
       "      <td>100.13</td>\n",
       "      <td>168.38</td>\n",
       "    </tr>\n",
       "    <tr>\n",
       "      <th>2</th>\n",
       "      <td>1955-56</td>\n",
       "      <td>77.96</td>\n",
       "      <td>85.95</td>\n",
       "      <td>90.02</td>\n",
       "      <td>153.08</td>\n",
       "    </tr>\n",
       "    <tr>\n",
       "      <th>3</th>\n",
       "      <td>1956-57</td>\n",
       "      <td>65.95</td>\n",
       "      <td>75.01</td>\n",
       "      <td>74.73</td>\n",
       "      <td>152.99</td>\n",
       "    </tr>\n",
       "    <tr>\n",
       "      <th>4</th>\n",
       "      <td>1957-58</td>\n",
       "      <td>61.17</td>\n",
       "      <td>71.59</td>\n",
       "      <td>75.80</td>\n",
       "      <td>179.87</td>\n",
       "    </tr>\n",
       "    <tr>\n",
       "      <th>5</th>\n",
       "      <td>1958-59</td>\n",
       "      <td>55.72</td>\n",
       "      <td>78.46</td>\n",
       "      <td>76.07</td>\n",
       "      <td>179.24</td>\n",
       "    </tr>\n",
       "  </tbody>\n",
       "</table>\n",
       "</div>"
      ],
      "text/plain": [
       "     Years  Apr - Jun  Jul - Sep  Oct - Dec  Jan - Mar\n",
       "0  1953-54      58.84      73.67      76.98     179.49\n",
       "1  1954-55      68.53      77.86     100.13     168.38\n",
       "2  1955-56      77.96      85.95      90.02     153.08\n",
       "3  1956-57      65.95      75.01      74.73     152.99\n",
       "4  1957-58      61.17      71.59      75.80     179.87\n",
       "5  1958-59      55.72      78.46      76.07     179.24"
      ]
     },
     "execution_count": 10,
     "metadata": {},
     "output_type": "execute_result"
    }
   ],
   "source": [
    "original_values = np.array(expenditure_dataframe[expenditure_dataframe.columns[1:]])\n",
    "\n",
    "original_values = original_values.ravel()\n",
    "\n",
    "trend_ratios = np.zeros(24)\n",
    "\n",
    "for i in range(24) :\n",
    "    trend_ratios[i] = (original_values[i] / trend_values[i]) * 100\n",
    "    trend_ratios[i] = round(trend_ratios[i], 2)\n",
    "\n",
    "trend_ratios_reshaped = trend_ratios.reshape(6, 4)\n",
    "\n",
    "dataframe_4 = pd.DataFrame(data = trend_ratios_reshaped,\n",
    "                          columns = ['Apr - Jun', 'Jul - Sep', 'Oct - Dec', 'Jan - Mar'])\n",
    "\n",
    "dataframe_4.insert(0, 'Years', years, True)\n",
    "\n",
    "dataframe_4"
   ]
  },
  {
   "cell_type": "markdown",
   "id": "1f31a20c",
   "metadata": {},
   "source": [
    "### Evaluating Adjusted Seasonal Indices :"
   ]
  },
  {
   "cell_type": "code",
   "execution_count": 11,
   "id": "4bcb7acb",
   "metadata": {},
   "outputs": [],
   "source": [
    "average = trend_ratios_reshaped.mean(axis = 0)\n",
    "\n",
    "sums = sum(average)\n",
    "\n",
    "k = 400 / sums\n",
    "\n",
    "adjusted_seasonal_indices = np.zeros(4)\n",
    "\n",
    "for i in range(len(average)) :\n",
    "    adjusted_seasonal_indices[i] = average[i] * k"
   ]
  },
  {
   "cell_type": "code",
   "execution_count": 12,
   "id": "8b0d987d",
   "metadata": {},
   "outputs": [
    {
     "data": {
      "text/html": [
       "<div>\n",
       "<style scoped>\n",
       "    .dataframe tbody tr th:only-of-type {\n",
       "        vertical-align: middle;\n",
       "    }\n",
       "\n",
       "    .dataframe tbody tr th {\n",
       "        vertical-align: top;\n",
       "    }\n",
       "\n",
       "    .dataframe thead th {\n",
       "        text-align: right;\n",
       "    }\n",
       "</style>\n",
       "<table border=\"1\" class=\"dataframe\">\n",
       "  <thead>\n",
       "    <tr style=\"text-align: right;\">\n",
       "      <th></th>\n",
       "      <th>0</th>\n",
       "      <th>Apr - Jun</th>\n",
       "      <th>Jul - Sep</th>\n",
       "      <th>Oct - Dec</th>\n",
       "      <th>Jan - Mar</th>\n",
       "    </tr>\n",
       "  </thead>\n",
       "  <tbody>\n",
       "    <tr>\n",
       "      <th>0</th>\n",
       "      <td>Average (A.M.) (Seasonal Indices))</td>\n",
       "      <td>64.695000</td>\n",
       "      <td>77.090000</td>\n",
       "      <td>82.288333</td>\n",
       "      <td>168.841667</td>\n",
       "    </tr>\n",
       "    <tr>\n",
       "      <th>1</th>\n",
       "      <td>Adjusted Seasonal Indices</td>\n",
       "      <td>65.861573</td>\n",
       "      <td>78.480078</td>\n",
       "      <td>83.772147</td>\n",
       "      <td>171.886201</td>\n",
       "    </tr>\n",
       "  </tbody>\n",
       "</table>\n",
       "</div>"
      ],
      "text/plain": [
       "                                    0  Apr - Jun  Jul - Sep  Oct - Dec  \\\n",
       "0  Average (A.M.) (Seasonal Indices))  64.695000  77.090000  82.288333   \n",
       "1           Adjusted Seasonal Indices  65.861573  78.480078  83.772147   \n",
       "\n",
       "    Jan - Mar  \n",
       "0  168.841667  \n",
       "1  171.886201  "
      ]
     },
     "execution_count": 12,
     "metadata": {},
     "output_type": "execute_result"
    }
   ],
   "source": [
    "my_array = np.concatenate((average, adjusted_seasonal_indices))\n",
    "\n",
    "my_array = my_array.reshape(2, 4)\n",
    "\n",
    "dataframe_5 = pd.DataFrame(data = my_array,\n",
    "                          columns = ['Apr - Jun', 'Jul - Sep', 'Oct - Dec', 'Jan - Mar'])\n",
    "\n",
    "dataframe_5.insert(0, '0', ['Average (A.M.) (Seasonal Indices))', 'Adjusted Seasonal Indices'])\n",
    "\n",
    "dataframe_5"
   ]
  },
  {
   "cell_type": "code",
   "execution_count": 13,
   "id": "c74f67a6",
   "metadata": {},
   "outputs": [
    {
     "data": {
      "image/png": "[encoded data removed]",
      "text/plain": [
       "<Figure size 640x480 with 1 Axes>"
      ]
     },
     "metadata": {},
     "output_type": "display_data"
    }
   ],
   "source": [
    "from matplotlib import pyplot as plt\n",
    "\n",
    "quarters = np.arange(1, 25)\n",
    "\n",
    "plt.scatter(quarters, original_values, marker = \"X\", s = 100, c = 'g')\n",
    "\n",
    "plt.xlabel(\"Quaters\")\n",
    "plt.ylabel(\"Original Values\")\n",
    "plt.title(\"Original Values in the Quarters\")\n",
    "\n",
    "plt.show()"
   ]
  },
  {
   "cell_type": "code",
   "execution_count": 14,
   "id": "020ea21d",
   "metadata": {},
   "outputs": [
    {
     "data": {
      "image/png": "[encoded data removed]",
      "text/plain": [
       "<Figure size 640x480 with 1 Axes>"
      ]
     },
     "metadata": {},
     "output_type": "display_data"
    }
   ],
   "source": [
    "plt.scatter(quarters, trend_values, marker = \"o\", c = 'c', s = 100)\n",
    "\n",
    "plt.xlabel(\"Quarters\")\n",
    "plt.ylabel(\"Trend Values\")\n",
    "plt.title(\"Trend Values in the Quarters\")\n",
    "\n",
    "plt.show()"
   ]
  },
  {
   "cell_type": "code",
   "execution_count": 15,
   "id": "72389edb",
   "metadata": {},
   "outputs": [
    {
     "data": {
      "image/png": "[encoded data removed]",
      "text/plain": [
       "<Figure size 640x480 with 1 Axes>"
      ]
     },
     "metadata": {},
     "output_type": "display_data"
    }
   ],
   "source": [
    "plt.scatter(quarters, trend_ratios, marker = \"X\", c = 'r', s = 100)\n",
    "\n",
    "plt.xlabel(\"Quarters\")\n",
    "plt.ylabel(\"Trend Ratios\")\n",
    "plt.title(\"Trend Ratios in the Quarters\")\n",
    "\n",
    "plt.show()"
   ]
  },
  {
   "cell_type": "code",
   "execution_count": null,
   "id": "17fd3598",
   "metadata": {},
   "outputs": [],
   "source": []
  }
 ],
 "metadata": {
  "kernelspec": {
   "display_name": "Python 3 (ipykernel)",
   "language": "python",
   "name": "python3"
  },
  "language_info": {
   "codemirror_mode": {
    "name": "ipython",
    "version": 3
   },
   "file_extension": ".py",
   "mimetype": "text/x-python",
   "name": "python",
   "nbconvert_exporter": "python",
   "pygments_lexer": "ipython3",
   "version": "3.11.0"
  }
 },
 "nbformat": 4,
 "nbformat_minor": 5
}
